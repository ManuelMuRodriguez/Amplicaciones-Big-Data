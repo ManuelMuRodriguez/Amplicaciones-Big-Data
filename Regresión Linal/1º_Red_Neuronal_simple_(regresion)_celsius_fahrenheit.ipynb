{
  "nbformat": 4,
  "nbformat_minor": 0,
  "metadata": {
    "colab": {
      "provenance": []
    },
    "kernelspec": {
      "name": "python3",
      "display_name": "Python 3"
    },
    "language_info": {
      "name": "python"
    }
  },
  "cells": [
    {
      "cell_type": "markdown",
      "source": [
        "#Transformar de grados celsius a fahrenheit"
      ],
      "metadata": {
        "id": "2XUrRUxHZRUB"
      }
    },
    {
      "cell_type": "markdown",
      "source": [
        "## Importar TensorFlow y numpy\n",
        "\n",
        "\n",
        "*   TensorFlow es una biblioteca de código abierto desarrollada por Google que se utiliza principalmente para construir y entrenar modelos de aprendizaje profundo\n",
        "*   NumPy es una biblioteca de Python utilizada principalmente para realizar operaciones matemáticas y numéricas eficientes en arreglos multidimensionales\n",
        "\n"
      ],
      "metadata": {
        "id": "QVH74s8zJc68"
      }
    },
    {
      "cell_type": "code",
      "execution_count": null,
      "metadata": {
        "id": "crExnqXLVef9"
      },
      "outputs": [],
      "source": [
        "import tensorflow as tf\n",
        "import numpy as np"
      ]
    },
    {
      "cell_type": "markdown",
      "source": [
        "## Declaramos los datos de entrada"
      ],
      "metadata": {
        "id": "tek4WhUFZaKI"
      }
    },
    {
      "cell_type": "code",
      "source": [
        "celsius = np.array([-40, -10, 0, 8, 15, 22, 38, 67, 70, 75, 80, 88, 90, 95, 100, 110], dtype=float)\n",
        "fahrenheit = np.array([-40, 14, 32, 46, 59, 72, 100, 152.6, 158, 167, 176, 190.4, 194, 203, 212, 230], dtype=float)"
      ],
      "metadata": {
        "id": "kMvtTA8CWGlO"
      },
      "execution_count": null,
      "outputs": []
    },
    {
      "cell_type": "markdown",
      "source": [
        "## Definimos nuestro modelo de red neuronal\n",
        "\n",
        "\n",
        "* **Dense** quiere decur que vamos a utilizar una capa densa es decir todas las neuronas conectadas\n",
        "*   **Units** es el numero de neuronas que queremos\n",
        "*   **input_shape** es el número de entradas o caracteristicas de nuestro sistemas\n",
        "*   **Activatión** es la función de activación que vamos a utilizar\n",
        "* **Secuential** es para crear redes neuronales recuenciales por capas\n",
        "\n",
        "modelo = tf.keras.Sequential([\n",
        "    capa1,\n",
        "    capa2,\n",
        "    capa3,\n",
        "    # ... más capas si es necesario\n",
        "])\n",
        "\n"
      ],
      "metadata": {
        "id": "uctt18lYWR8c"
      }
    },
    {
      "cell_type": "code",
      "source": [
        "capa = tf.keras.layers.Dense(units=1, input_shape=[1],activation='relu')\n",
        "modelo = tf.keras.Sequential([capa])"
      ],
      "metadata": {
        "id": "8bFH6cMlWJ8H"
      },
      "execution_count": null,
      "outputs": []
    },
    {
      "cell_type": "markdown",
      "source": [
        "## Declaramos nuestro compilador con el algoritmo de optimización y perdida\n",
        "\n",
        "Un optimizador es un algoritmo que ajusta los pesos del modelo durante el entrenamiento para minimizar la función de pérdida\n",
        "\n",
        "\n",
        "\n",
        "*   **Adam** es el optimizar para la tasa de aprendizaje. Determina la magnitud de los ajustes que se realizan en los pesos del modelo durante el proceso de entrenamiento. Un valor más alto de la tasa de aprendizaje significa ajustes más grandes, pero también puede llevar a una convergencia inestable o a que el modelo no converja en absoluto. Es un hiperparámetro que puede necesitar ajustes durante el proceso de experimentación.\n",
        "*   **loss**='mean_squared_error': La función de pérdida (loss function) se utiliza para medir cuán bien el modelo está realizando en cada iteración durante el entrenamiento. En este caso, la función de pérdida es el error cuadrático medio (mean_squared_error), que se utiliza comúnmente en problemas de regresión. La idea es minimizar esta pérdida, lo que significa que el modelo está haciendo predicciones que están cerca de los valores reales.\n"
      ],
      "metadata": {
        "id": "MdvcskpbXCk0"
      }
    },
    {
      "cell_type": "code",
      "source": [
        "modelo.compile(\n",
        "    optimizer=tf.keras.optimizers.Adam(0.1),\n",
        "    loss='mean_squared_error'\n",
        ")"
      ],
      "metadata": {
        "id": "bAv7WeFrXB_5"
      },
      "execution_count": null,
      "outputs": []
    },
    {
      "cell_type": "markdown",
      "source": [
        "## Entrenamos nuestro modelo con las etapas y datos de entrada\n",
        "\n",
        "\n",
        "*   Epochs son el número de iteraciones\n",
        "*   verbose para que no muestre los resultados\n",
        "\n"
      ],
      "metadata": {
        "id": "m9hU-8csZtwo"
      }
    },
    {
      "cell_type": "code",
      "source": [
        "print(\"Comenzando entrenamiento...\")\n",
        "historial = modelo.fit(celsius, fahrenheit, epochs=1000, verbose=False)\n",
        "print(\"Modelo entrenado!\")"
      ],
      "metadata": {
        "colab": {
          "base_uri": "https://localhost:8080/"
        },
        "id": "Ev0JfyLrYLU2",
        "outputId": "eb8c4df7-3ca6-4493-e346-604012033563"
      },
      "execution_count": null,
      "outputs": [
        {
          "output_type": "stream",
          "name": "stdout",
          "text": [
            "Comenzando entrenamiento...\n",
            "Modelo entrenado!\n"
          ]
        }
      ]
    },
    {
      "cell_type": "markdown",
      "source": [
        "## Evaluar modelo"
      ],
      "metadata": {
        "id": "G37sOgWc2W-U"
      }
    },
    {
      "cell_type": "code",
      "source": [
        "# Evaluar el modelo\n",
        "loss = modelo.evaluate(celsius, fahrenheit)\n",
        "print(f'Pérdida (mean_squared_error) en los datos de prueba: {loss}')"
      ],
      "metadata": {
        "colab": {
          "base_uri": "https://localhost:8080/"
        },
        "id": "qd4HhTGL2Vx8",
        "outputId": "73c7e699-56ae-441c-9c07-890f758b94d7"
      },
      "execution_count": null,
      "outputs": [
        {
          "output_type": "stream",
          "name": "stdout",
          "text": [
            "1/1 [==============================] - 0s 367ms/step - loss: 100.0984\n",
            "Pérdida (mean_squared_error) en los datos de prueba: 100.09837341308594\n"
          ]
        }
      ]
    },
    {
      "cell_type": "markdown",
      "source": [
        "Comenzando entrenamiento...\n",
        "Modelo entrenado!"
      ],
      "metadata": {
        "id": "Nz4wrwoCYQcN"
      }
    },
    {
      "cell_type": "markdown",
      "source": [
        "## Visualizamos en cada epoca el aprendizaje de nuestro modelo"
      ],
      "metadata": {
        "id": "6bN6ZdxzZ6Cz"
      }
    },
    {
      "cell_type": "code",
      "source": [
        "import matplotlib.pyplot as plt\n",
        "plt.xlabel(\"# Epoca\")\n",
        "plt.ylabel(\"Magnitud de pérdida\")\n",
        "plt.plot(historial.history[\"loss\"])\n"
      ],
      "metadata": {
        "colab": {
          "base_uri": "https://localhost:8080/",
          "height": 466
        },
        "id": "OkhGcpi3YNV0",
        "outputId": "8bc989a1-7d69-4b51-b71e-888e87bb65e9"
      },
      "execution_count": null,
      "outputs": [
        {
          "output_type": "execute_result",
          "data": {
            "text/plain": [
              "[<matplotlib.lines.Line2D at 0x78b8ba477c70>]"
            ]
          },
          "metadata": {},
          "execution_count": 7
        },
        {
          "output_type": "display_data",
          "data": {
            "text/plain": [
              "<Figure size 640x480 with 1 Axes>"
            ],
            "image/png": "[encoded data removed]"
          },
          "metadata": {}
        }
      ]
    },
    {
      "cell_type": "markdown",
      "source": [
        "Vamos a utilizar el módelo"
      ],
      "metadata": {
        "id": "zCKokLbtYhb7"
      }
    },
    {
      "cell_type": "markdown",
      "source": [
        "## Hacemos una predicción para ver si funciona"
      ],
      "metadata": {
        "id": "95QUA_2RZ-u6"
      }
    },
    {
      "cell_type": "code",
      "source": [
        "print(\"Hagamos una predicción!\")\n",
        "resultado = modelo.predict([100.0])\n",
        "print(\"El resultado es \" + str(resultado) + \" fahrenheit!\")"
      ],
      "metadata": {
        "id": "FpvpfLpIYjXs",
        "colab": {
          "base_uri": "https://localhost:8080/"
        },
        "outputId": "ee6679e6-fbe4-4bf2-e7bb-fa47ff8cc2ee"
      },
      "execution_count": null,
      "outputs": [
        {
          "output_type": "stream",
          "name": "stdout",
          "text": [
            "Hagamos una predicción!\n",
            "1/1 [==============================] - 0s 193ms/step\n",
            "El resultado es [[212.09604]] fahrenheit!\n"
          ]
        }
      ]
    },
    {
      "cell_type": "markdown",
      "source": [
        "# Exportar el modelo"
      ],
      "metadata": {
        "id": "1p8my1bG1bqw"
      }
    },
    {
      "cell_type": "code",
      "source": [
        "modelo.save('modelo_celsius.keras')"
      ],
      "metadata": {
        "id": "aoNnJ-aO1eoQ",
        "outputId": "83e31f66-b3af-4217-ad49-9fa86c02f9c6",
        "colab": {
          "base_uri": "https://localhost:8080/",
          "height": 141
        }
      },
      "execution_count": null,
      "outputs": [
        {
          "output_type": "error",
          "ename": "NameError",
          "evalue": "name 'modelo' is not defined",
          "traceback": [
            "\u001b[0;31m---------------------------------------------------------------------------\u001b[0m",
            "\u001b[0;31mNameError\u001b[0m                                 Traceback (most recent call last)",
            "\u001b[0;32m<ipython-input-1-4cec761c4311>\u001b[0m in \u001b[0;36m<cell line: 1>\u001b[0;34m()\u001b[0m\n\u001b[0;32m----> 1\u001b[0;31m \u001b[0mmodelo\u001b[0m\u001b[0;34m.\u001b[0m\u001b[0msave\u001b[0m\u001b[0;34m(\u001b[0m\u001b[0;34m'modelo_celsius.keras'\u001b[0m\u001b[0;34m)\u001b[0m\u001b[0;34m\u001b[0m\u001b[0;34m\u001b[0m\u001b[0m\n\u001b[0m",
            "\u001b[0;31mNameError\u001b[0m: name 'modelo' is not defined"
          ]
        }
      ]
    }
  ]
}